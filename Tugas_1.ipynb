{
  "nbformat": 4,
  "nbformat_minor": 0,
  "metadata": {
    "colab": {
      "provenance": [],
      "authorship_tag": "ABX9TyNI5IzrqntqlP7E6qHAFj8S",
      "include_colab_link": true
    },
    "kernelspec": {
      "name": "python3",
      "display_name": "Python 3"
    },
    "language_info": {
      "name": "python"
    }
  },
  "cells": [
    {
      "cell_type": "markdown",
      "metadata": {
        "id": "view-in-github",
        "colab_type": "text"
      },
      "source": [
        "<a href=\"https://colab.research.google.com/github/lnsky06/Tugas_1/blob/main/Tugas_1.ipynb\" target=\"_parent\"><img src=\"https://colab.research.google.com/assets/colab-badge.svg\" alt=\"Open In Colab\"/></a>"
      ]
    },
    {
      "cell_type": "code",
      "execution_count": 1,
      "metadata": {
        "id": "kqMZl_mfSxw1"
      },
      "outputs": [],
      "source": [
        "import numpy as np"
      ]
    },
    {
      "cell_type": "code",
      "source": [
        "# Membuat matriks\n",
        "angka = np.arange(11,36)\n",
        "matriks = angka.reshape(5,5)\n",
        "\n",
        "# Membuat Angka jadi Berwarna dengan warna-warna tertentu\n",
        "def warna_angka(angka):\n",
        "    if angka in [11, 13, 15, 21, 23, 25, 31, 33, 35] :\n",
        "      return \"\\033[32m{}\\033[0m\".format(angka) #Warna Hijau\n",
        "    elif angka in [12, 14] :\n",
        "      return \"\\033[31m{}\\033[0m\".format(angka) #warna Merah\n",
        "    elif angka in [16, 26] :\n",
        "      return \"\\033[34m{}\\033[0m\".format(angka) #Warna Biru\n",
        "    elif angka in [12, 17, 22, 22, 27, 32] :\n",
        "      return \"\\033[91m{}\\033[0m\".format(angka) #Warna Merah Muda\n",
        "    else :\n",
        "      return str(angka)\n",
        "\n",
        "# Mengubah dengan warna angka yang sudah di rubah\n",
        "matriks_warna = np.vectorize(warna_angka)(matriks)\n",
        "\n",
        "# Menampilkan matriks\n",
        "for baris in matriks_warna :\n",
        "  print(\" \".join(baris))"
      ],
      "metadata": {
        "id": "7WYuGGXh8UOQ"
      },
      "execution_count": null,
      "outputs": []
    }
  ]
}