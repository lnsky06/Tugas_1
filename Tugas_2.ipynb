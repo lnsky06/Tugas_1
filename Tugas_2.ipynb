{
  "nbformat": 4,
  "nbformat_minor": 0,
  "metadata": {
    "colab": {
      "provenance": [],
      "authorship_tag": "ABX9TyPmf2I17/K4v/lIlKedgo3b",
      "include_colab_link": true
    },
    "kernelspec": {
      "name": "python3",
      "display_name": "Python 3"
    },
    "language_info": {
      "name": "python"
    }
  },
  "cells": [
    {
      "cell_type": "markdown",
      "metadata": {
        "id": "view-in-github",
        "colab_type": "text"
      },
      "source": [
        "<a href=\"https://colab.research.google.com/github/lnsky06/Tugas_1/blob/main/Tugas_2.ipynb\" target=\"_parent\"><img src=\"https://colab.research.google.com/assets/colab-badge.svg\" alt=\"Open In Colab\"/></a>"
      ]
    },
    {
      "cell_type": "code",
      "execution_count": 3,
      "metadata": {
        "colab": {
          "base_uri": "https://localhost:8080/"
        },
        "id": "IsKO5pwmkMai",
        "outputId": "c5c4f588-4f79-4f44-de99-571cf9257f14"
      },
      "outputs": [
        {
          "output_type": "stream",
          "name": "stdout",
          "text": [
            "                 Name     Gender    No Telepon\n",
            "0      Arfian Purnama  Laki-laki  081267001022\n",
            "1  Alisa Dityaningrum  Perempuan  087823560918\n",
            "2      Kiki Anggraeni  Perempuan  089654009102\n",
            "3     Rizky Kurniawan  Laki-laki  082267018967\n"
          ]
        }
      ],
      "source": [
        "import pandas as pd\n",
        "\n",
        "# Define the data\n",
        "data = {\n",
        "    'Name': ['Arfian Purnama', 'Alisa Dityaningrum', 'Kiki Anggraeni', 'Rizky Kurniawan'],\n",
        "    'Gender': ['Laki-laki', 'Perempuan', 'Perempuan', 'Laki-laki'],\n",
        "    'No Telepon': ['081267001022', '087823560918', '089654009102', '082267018967']\n",
        "}\n",
        "\n",
        "# Create the dataframe\n",
        "df = pd.DataFrame(data)\n",
        "\n",
        "# Display the dataframe\n",
        "print(df)"
      ]
    },
    {
      "cell_type": "code",
      "source": [
        "# Define the data\n",
        "data = {\n",
        "    'Name': ['Arfian Purnama', 'Alisa Dityaningrum', 'Kiki Anggraeni', 'Rizky Kurniawan'],\n",
        "    'Gender': ['Laki-laki', 'Perempuan', 'Perempuan', 'Laki-laki'],\n",
        "    'No Telepon': ['081267001022', '087823560918', '089654009102', '082267018967'],\n",
        "    'Tugas': [80, 89, 76, 80],\n",
        "    'UTS': [88, 78, 90, 81],\n",
        "    'UAS': [90, 89, 85, 82]}\n",
        "\n",
        "# Create the dataframe\n",
        "df = pd.DataFrame(data)\n",
        "\n",
        "# Display the dataframe\n",
        "print(df)"
      ],
      "metadata": {
        "colab": {
          "base_uri": "https://localhost:8080/"
        },
        "id": "6VXUE8SbkW9s",
        "outputId": "e4f30df2-0e5a-4ee0-c9c8-ddb01cc75dea"
      },
      "execution_count": 4,
      "outputs": [
        {
          "output_type": "stream",
          "name": "stdout",
          "text": [
            "                 Name     Gender    No Telepon  Tugas  UTS  UAS\n",
            "0      Arfian Purnama  Laki-laki  081267001022     80   88   90\n",
            "1  Alisa Dityaningrum  Perempuan  087823560918     89   78   89\n",
            "2      Kiki Anggraeni  Perempuan  089654009102     76   90   85\n",
            "3     Rizky Kurniawan  Laki-laki  082267018967     80   81   82\n"
          ]
        }
      ]
    },
    {
      "cell_type": "code",
      "source": [
        "# Define the data\n",
        "data = {'Name': ['Arfian Purnama', 'Alisa Dityaningrum', 'Kiki Anggraeni', 'Rizky Kurniawan'],\n",
        "        'Gender': ['Laki-laki', 'Perempuan', 'Perempuan', 'Laki-laki'],\n",
        "        'No Telepon': ['081267001022', '087823560918', '089654009102', '082267018967'],\n",
        "        'Tugas': [80, 89, 76, 80],\n",
        "        'UTS': [88, 78, 90, 81],\n",
        "        'UAS': [90, 89, 85, 82]}\n",
        "\n",
        "# Create the DataFrame\n",
        "df = pd.DataFrame(data)\n",
        "\n",
        "# Calculate the final grade\n",
        "df['Nilai Akhir'] = (0.3 * df['Tugas'] + 0.3 * df['UTS'] + 0.4 * df['UAS']).round(2)\n",
        "\n",
        "# Display the DataFrame\n",
        "print(df)"
      ],
      "metadata": {
        "colab": {
          "base_uri": "https://localhost:8080/"
        },
        "id": "JLL99fvUkZ9H",
        "outputId": "030e0be5-5ccb-4728-edf5-d1e49c26dd7f"
      },
      "execution_count": 6,
      "outputs": [
        {
          "output_type": "stream",
          "name": "stdout",
          "text": [
            "                 Name     Gender    No Telepon  Tugas  UTS  UAS  Nilai Akhir\n",
            "0      Arfian Purnama  Laki-laki  081267001022     80   88   90         86.4\n",
            "1  Alisa Dityaningrum  Perempuan  087823560918     89   78   89         85.7\n",
            "2      Kiki Anggraeni  Perempuan  089654009102     76   90   85         83.8\n",
            "3     Rizky Kurniawan  Laki-laki  082267018967     80   81   82         81.1\n"
          ]
        }
      ]
    }
  ]
}